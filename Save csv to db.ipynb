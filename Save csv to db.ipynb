{
 "cells": [
  {
   "cell_type": "code",
   "execution_count": 1,
   "metadata": {},
   "outputs": [
    {
     "name": "stderr",
     "output_type": "stream",
     "text": [
      "C:\\Users\\Aihua Chen\\anaconda\\Anaconda3\\lib\\site-packages\\pandas\\core\\generic.py:2130: UserWarning: The spaces in these column names will not be changed. In pandas versions < 0.14, spaces were converted to underscores.\n",
      "  dtype=dtype)\n"
     ]
    }
   ],
   "source": [
    "import sqlite3\n",
    "import pandas as pd\n",
    "\n",
    "# load data\n",
    "df = pd.read_csv('Metrics Data for db/On Time Percentage.csv')\n",
    "\n",
    "# # strip whitespace from headers\n",
    "df.columns = df.columns.str.strip()\n",
    "\n",
    "con = sqlite3.connect(\"db/flightsCal.db\")\n",
    "\n",
    "# # drop data into database\n",
    "df.to_sql(\"OntimeTable\", con)\n",
    "\n",
    "con.close()"
   ]
  },
  {
   "cell_type": "code",
   "execution_count": 2,
   "metadata": {},
   "outputs": [
    {
     "name": "stderr",
     "output_type": "stream",
     "text": [
      "C:\\Users\\Aihua Chen\\anaconda\\Anaconda3\\lib\\site-packages\\pandas\\core\\generic.py:2130: UserWarning: The spaces in these column names will not be changed. In pandas versions < 0.14, spaces were converted to underscores.\n",
      "  dtype=dtype)\n"
     ]
    }
   ],
   "source": [
    "df1 = pd.read_csv('Metrics Data for db/Cancelled Analysis.csv')\n",
    "\n",
    "# # strip whitespace from headers\n",
    "df1.columns = df1.columns.str.strip()\n",
    "\n",
    "con = sqlite3.connect(\"db/flightsCal.db\")\n",
    "\n",
    "# # drop data into database\n",
    "df1.to_sql(\"CancelTable\", con)\n",
    "\n",
    "con.close()"
   ]
  },
  {
   "cell_type": "code",
   "execution_count": 3,
   "metadata": {},
   "outputs": [
    {
     "name": "stderr",
     "output_type": "stream",
     "text": [
      "C:\\Users\\Aihua Chen\\anaconda\\Anaconda3\\lib\\site-packages\\pandas\\core\\generic.py:2130: UserWarning: The spaces in these column names will not be changed. In pandas versions < 0.14, spaces were converted to underscores.\n",
      "  dtype=dtype)\n"
     ]
    }
   ],
   "source": [
    "df2 = pd.read_csv('Metrics Data for db/Diverted Percentage.csv')\n",
    "\n",
    "# # strip whitespace from headers\n",
    "df2.columns = df2.columns.str.strip()\n",
    "\n",
    "con = sqlite3.connect(\"db/flightsCal.db\")\n",
    "\n",
    "# # drop data into database\n",
    "df2.to_sql(\"DivertedTable\", con)\n",
    "\n",
    "con.close()"
   ]
  },
  {
   "cell_type": "code",
   "execution_count": 4,
   "metadata": {},
   "outputs": [
    {
     "name": "stderr",
     "output_type": "stream",
     "text": [
      "C:\\Users\\Aihua Chen\\anaconda\\Anaconda3\\lib\\site-packages\\pandas\\core\\generic.py:2130: UserWarning: The spaces in these column names will not be changed. In pandas versions < 0.14, spaces were converted to underscores.\n",
      "  dtype=dtype)\n"
     ]
    }
   ],
   "source": [
    "df3 = pd.read_csv('Metrics Data for db/Airline Flight and Plane Count.csv')\n",
    "\n",
    "# # strip whitespace from headers\n",
    "df3.columns = df3.columns.str.strip()\n",
    "\n",
    "con = sqlite3.connect(\"db/flightsCal.db\")\n",
    "\n",
    "# # drop data into database\n",
    "df3.to_sql(\"FlightTable\", con)\n",
    "\n",
    "con.close()"
   ]
  },
  {
   "cell_type": "code",
   "execution_count": 5,
   "metadata": {},
   "outputs": [],
   "source": [
    "df4 = pd.read_csv('Metrics Data for db/Airlines.csv')\n",
    "\n",
    "# # strip whitespace from headers\n",
    "df4.columns = df4.columns.str.strip()\n",
    "\n",
    "con = sqlite3.connect(\"db/flightsCal.db\")\n",
    "\n",
    "# # drop data into database\n",
    "df4.to_sql(\"AirlinesTable\", con)\n",
    "\n",
    "con.close()"
   ]
  },
  {
   "cell_type": "code",
   "execution_count": 7,
   "metadata": {},
   "outputs": [
    {
     "name": "stderr",
     "output_type": "stream",
     "text": [
      "C:\\Users\\Aihua Chen\\anaconda\\Anaconda3\\lib\\site-packages\\pandas\\core\\generic.py:2130: UserWarning: The spaces in these column names will not be changed. In pandas versions < 0.14, spaces were converted to underscores.\n",
      "  dtype=dtype)\n"
     ]
    }
   ],
   "source": [
    "df5 = pd.read_csv('Metrics Data for db/Delay Analysis.csv')\n",
    "\n",
    "# # strip whitespace from headers\n",
    "df5.columns = df5.columns.str.strip()\n",
    "\n",
    "con = sqlite3.connect(\"db/flightsCal.db\")\n",
    "\n",
    "# # drop data into database\n",
    "df5.to_sql(\"DelayTable\", con)\n",
    "\n",
    "con.close()"
   ]
  },
  {
   "cell_type": "code",
   "execution_count": 6,
   "metadata": {},
   "outputs": [
    {
     "name": "stderr",
     "output_type": "stream",
     "text": [
      "C:\\Users\\Aihua Chen\\anaconda\\Anaconda3\\lib\\site-packages\\pandas\\core\\generic.py:2130: UserWarning: The spaces in these column names will not be changed. In pandas versions < 0.14, spaces were converted to underscores.\n",
      "  dtype=dtype)\n"
     ]
    }
   ],
   "source": [
    "df6 = pd.read_csv('Metrics Data for db/Grouped FlightData.csv')\n",
    "\n",
    "# # strip whitespace from headers\n",
    "df6.columns = df6.columns.str.strip()\n",
    "\n",
    "con = sqlite3.connect(\"db/flightsCal.db\")\n",
    "\n",
    "# # drop data into database\n",
    "df6.to_sql(\"GroupedFlightData\", con,if_exists='replace')\n",
    "\n",
    "con.close()"
   ]
  },
  {
   "cell_type": "code",
   "execution_count": 8,
   "metadata": {},
   "outputs": [],
   "source": [
    "import sqlite3\n",
    "import pandas as pd\n",
    "df7 = pd.read_csv('Metrics Data for db/Airports.csv')\n",
    "\n",
    "# # strip whitespace from headers\n",
    "df7.columns = df7.columns.str.strip()\n",
    "\n",
    "con = sqlite3.connect(\"db/flightsCal.db\")\n",
    "\n",
    "# # drop data into database\n",
    "df7.to_sql(\"airportTable\", con,if_exists='replace')\n",
    "\n",
    "con.close()"
   ]
  },
  {
   "cell_type": "code",
   "execution_count": null,
   "metadata": {},
   "outputs": [],
   "source": []
  }
 ],
 "metadata": {
  "kernelspec": {
   "display_name": "Python 3",
   "language": "python",
   "name": "python3"
  },
  "language_info": {
   "codemirror_mode": {
    "name": "ipython",
    "version": 3
   },
   "file_extension": ".py",
   "mimetype": "text/x-python",
   "name": "python",
   "nbconvert_exporter": "python",
   "pygments_lexer": "ipython3",
   "version": "3.7.0"
  }
 },
 "nbformat": 4,
 "nbformat_minor": 2
}
